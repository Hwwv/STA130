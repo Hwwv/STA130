{
 "cells": [
  {
   "cell_type": "markdown",
   "metadata": {},
   "source": [
    "### Research question I want to study and parameters I want to select: \n",
    "Differences on the relationship between social connection and personal health in immigrants and locals is the question I am interested in. Generally speaking, this question can be divided into following several sub-questions:\n",
    "1.\tIs there any relation between social connection and personal health in general?\n",
    "2.\tIf so, is there any difference in the behaviors of immigrants and locals?\n",
    "3.\tFor further exploring on the possible causes of this difference, can we find any detailed differences among the immigrants?\n",
    "For this study process, I think it may be better to select the raw points in two sets of the dataset: the results of measuring social connections and the results of measuring self-health condition. Under necessary calculation of the relevant question points, there should be a way to estimate the relation between social connection and well-being. The parameters now I want to check here are based on the assumption of this relation: given that the samples in the data are independent empirically, I tend to use multivariate linear regression analysis for further testing. So I will do estimation on the correlation coefficients first, and then on the slopes(coefficients) of the linear representation if the first test has been done well.\n",
    "### Variables chosen and reasons, visualization: \n",
    "For the whole dataset, I select two types of data for first estimation. First are those question results related to social connections. For example, Q32 asked about the frequency of all kinds of “meaningful social connections” is the most obvious one. Besides, some questions asked about the time and tendency of choosing activities. By doing sum of the points and even more complex calculation of the points(not changing the essence of the data), I hope this can reflect the condition of personal social connection. The second are those questions related to the physical and mental health of people, which can be divided by self-evaluation and actual behavior. For example, Q15 talked about the feeling of life, Q56 about the comments on reliability of relationship. Here, I also take further calculation for further linear analysis.\n",
    "Then for distinguishing the immigrants and locals, I will choose Q49 for identification by using Boolean number. For finding the causes of the possible difference, I will take Q50, which is about the age of immigration, to sort the immigrants’ data. So the second part of regression analysis can be done.\n",
    "Actually, I should take the Q6 ‘duration’ to ensure the data collected here are “rational answers”.\n",
    "Considering that there should be some difference between the immigrants and locals on the question, I can use plots to visualize the difference between the two groups of people. I will choose histograms to illustrate the differences between the two groups in distribution social connection and well-being.\n",
    "This is because the points I get here should be continuous. Besides, the distribution can affect the accuracy of our analysis.(Normal distribution should be good.)\n",
    "### Analysis performance: \n",
    "So I want to use multivariate linear regression analysis and hypothesis testing in the data analysis. It can be seen as building a model, then check its accuracy and reliability. If the sample data is big enough, I can simply take it and begin my analysis. However, if it is not enough, I will use bootstrapping for generating samples and sample distribution, and check whether I can do linear regression analysis. After that, if I can, I will do the general, local and immigrants’ regression analysis by checking its existence(correlation coefficients and so on) and finding the differences of the slopes between locals and immigrants and among immigrants. The well-being here can be taken as the “y” and the social connections here can be taken as the ”$x_i$”. And I can use p-value or confidence interval for testing the model.\n",
    "### Hypothesis:\n",
    "For question 1: \n",
    "1.\tThe correlation coefficient is large enough(like close to 1)\n",
    "2.\t$H_0$: Coefficients of regression all equal to 0. $H_a$: not all are 0.\n",
    "3.\t$H_0$: some of the coefficients are 0. $H_a$: not zero.\n",
    "4.\t$H_0$: some of the coefficients are greater than 0. $H_a$: less than 0.\n",
    "For question 2:\n",
    "Repeat the process in question 1, just remind me to sort immigrants or not first.\n",
    "For question 3: \n",
    "Repeat the process in question 1, just remind me to sort immigrants by their first-coming age or education first.\n"
   ]
  }
 ],
 "metadata": {
  "language_info": {
   "name": "python"
  }
 },
 "nbformat": 4,
 "nbformat_minor": 2
}
